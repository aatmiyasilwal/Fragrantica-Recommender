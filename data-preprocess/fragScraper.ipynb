{
 "cells": [
  {
   "cell_type": "code",
   "execution_count": 6,
   "metadata": {},
   "outputs": [],
   "source": [
    "from selenium import webdriver\n",
    "\n",
    "driver = webdriver.Safari() \n",
    "driver.get(\"https://www.parfumo.com/Perfumes/Tops/Men\")"
   ]
  },
  {
   "cell_type": "markdown",
   "metadata": {},
   "source": [
    "### To-do Pre-Orientation\n",
    "\n",
    "1. Top 100 male scrape from: https://www.parfumo.com/Perfumes/Tops/Men\n",
    "2. Top 100 female scrape from: https://www.parfumo.com/Perfumes/Tops/Women\n",
    "3. Top 100 unisex: https://www.parfumo.com/Perfumes/Tops/Unisex\n",
    "\n",
    "### Things to be scraped\n",
    "\n",
    "1. Name\n",
    "2. Producer\n",
    "3. Year Released\n",
    "4. Notes\n",
    "5. Description\n",
    "6. Top Review"
   ]
  },
  {
   "cell_type": "markdown",
   "metadata": {},
   "source": [
    "### Workflow\n",
    "----\n",
    "* Get bot to reject cookies.\n",
    "* Traverse the websites one by one.\n",
    "* List of all fragrances along with their respective links in Pandas dataframe.\n",
    "* Traverse each individual link: extract info to be scraped -> append to dataframe.\n",
    "* Repeat the same for other two cases.\n",
    "\n",
    "#### Eventual Direction\n",
    "----\n",
    "\n",
    "1. User prompted one sentence/few questions.\n",
    "2. Apply embedding model from Hugging Face: `sentence-transformers/all-MiniLM-L6-v2`. [Link](https://huggingface.co/sentence-transformers/all-MiniLM-L6-v2)\n",
    "3. Based on embedding model, find 10 most similar fragrances based on Cosine Similarity.\n",
    "4. Host on localhost first, then via Streamlit. \n",
    "5. Finally, think of migrating to React.\n",
    "\n"
   ]
  }
 ],
 "metadata": {
  "kernelspec": {
   "display_name": "Python 3",
   "language": "python",
   "name": "python3"
  },
  "language_info": {
   "codemirror_mode": {
    "name": "ipython",
    "version": 3
   },
   "file_extension": ".py",
   "mimetype": "text/x-python",
   "name": "python",
   "nbconvert_exporter": "python",
   "pygments_lexer": "ipython3",
   "version": "3.11.5"
  },
  "orig_nbformat": 4
 },
 "nbformat": 4,
 "nbformat_minor": 2
}
